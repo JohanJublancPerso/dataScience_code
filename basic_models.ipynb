{
 "cells": [
  {
   "cell_type": "code",
   "execution_count": 168,
   "metadata": {},
   "outputs": [],
   "source": [
    "import os\n",
    "from os import chdir\n",
    "\n",
    "import math         # opérations mathématiques\n",
    "import pandas as pd # data processing, CSV file I/O (e.g. pd.read_csv)\n",
    "import numpy  as np\n",
    "from numpy import random\n",
    "\n",
    "from sklearn.ensemble import RandomForestRegressor # packages pour rdforest\n",
    "from sklearn.ensemble import AdaBoostRegressor     # packages pour AdaBoost\n",
    "from sklearn.ensemble import BaggingRegressor      # algorithmes de bagging\n",
    "from sklearn.svm import SVR                        # packages pour SVR\n",
    "from sklearn.model_selection import GridSearchCV # parameter estimation \n",
    "                                                 # using grid search with \n",
    "                                                 # cross-validation\n",
    "\n",
    "import matplotlib.pyplot as plt # sorties graphiques"
   ]
  },
  {
   "cell_type": "code",
   "execution_count": 169,
   "metadata": {},
   "outputs": [
    {
     "data": {
      "text/plain": [
       "'/Users/johanjublanc/JupyterProjects/python_models'"
      ]
     },
     "execution_count": 169,
     "metadata": {},
     "output_type": "execute_result"
    }
   ],
   "source": [
    "os.getcwd()"
   ]
  },
  {
   "cell_type": "code",
   "execution_count": 170,
   "metadata": {},
   "outputs": [
    {
     "data": {
      "text/html": [
       "<div>\n",
       "<style scoped>\n",
       "    .dataframe tbody tr th:only-of-type {\n",
       "        vertical-align: middle;\n",
       "    }\n",
       "\n",
       "    .dataframe tbody tr th {\n",
       "        vertical-align: top;\n",
       "    }\n",
       "\n",
       "    .dataframe thead th {\n",
       "        text-align: right;\n",
       "    }\n",
       "</style>\n",
       "<table border=\"1\" class=\"dataframe\">\n",
       "  <thead>\n",
       "    <tr style=\"text-align: right;\">\n",
       "      <th></th>\n",
       "      <th>capacity</th>\n",
       "      <th>failure_rate</th>\n",
       "      <th>margin</th>\n",
       "      <th>price</th>\n",
       "      <th>prod_cost</th>\n",
       "      <th>product_type__auto-portee</th>\n",
       "      <th>product_type__electrique</th>\n",
       "      <th>product_type__essence</th>\n",
       "      <th>quality__Hight</th>\n",
       "      <th>quality__Low</th>\n",
       "      <th>quality__Medium</th>\n",
       "      <th>warranty__1 an</th>\n",
       "      <th>warranty__2 ans</th>\n",
       "      <th>warranty__3 ans</th>\n",
       "    </tr>\n",
       "  </thead>\n",
       "  <tbody>\n",
       "    <tr>\n",
       "      <th>0</th>\n",
       "      <td>10.492623</td>\n",
       "      <td>0.042528</td>\n",
       "      <td>633.766584</td>\n",
       "      <td>828.802103</td>\n",
       "      <td>195.035519</td>\n",
       "      <td>1</td>\n",
       "      <td>0</td>\n",
       "      <td>0</td>\n",
       "      <td>0</td>\n",
       "      <td>1</td>\n",
       "      <td>0</td>\n",
       "      <td>0</td>\n",
       "      <td>0</td>\n",
       "      <td>1</td>\n",
       "    </tr>\n",
       "    <tr>\n",
       "      <th>1</th>\n",
       "      <td>20.273730</td>\n",
       "      <td>0.037896</td>\n",
       "      <td>731.576817</td>\n",
       "      <td>882.894916</td>\n",
       "      <td>151.318099</td>\n",
       "      <td>1</td>\n",
       "      <td>0</td>\n",
       "      <td>0</td>\n",
       "      <td>0</td>\n",
       "      <td>1</td>\n",
       "      <td>0</td>\n",
       "      <td>0</td>\n",
       "      <td>0</td>\n",
       "      <td>1</td>\n",
       "    </tr>\n",
       "    <tr>\n",
       "      <th>2</th>\n",
       "      <td>20.190457</td>\n",
       "      <td>0.039111</td>\n",
       "      <td>741.218202</td>\n",
       "      <td>919.355522</td>\n",
       "      <td>178.137319</td>\n",
       "      <td>1</td>\n",
       "      <td>0</td>\n",
       "      <td>0</td>\n",
       "      <td>0</td>\n",
       "      <td>1</td>\n",
       "      <td>0</td>\n",
       "      <td>0</td>\n",
       "      <td>0</td>\n",
       "      <td>1</td>\n",
       "    </tr>\n",
       "    <tr>\n",
       "      <th>3</th>\n",
       "      <td>27.220131</td>\n",
       "      <td>0.041303</td>\n",
       "      <td>654.255635</td>\n",
       "      <td>817.085097</td>\n",
       "      <td>162.829462</td>\n",
       "      <td>1</td>\n",
       "      <td>0</td>\n",
       "      <td>0</td>\n",
       "      <td>0</td>\n",
       "      <td>1</td>\n",
       "      <td>0</td>\n",
       "      <td>0</td>\n",
       "      <td>0</td>\n",
       "      <td>1</td>\n",
       "    </tr>\n",
       "    <tr>\n",
       "      <th>4</th>\n",
       "      <td>16.370911</td>\n",
       "      <td>0.037938</td>\n",
       "      <td>703.094527</td>\n",
       "      <td>844.581465</td>\n",
       "      <td>141.486938</td>\n",
       "      <td>1</td>\n",
       "      <td>0</td>\n",
       "      <td>0</td>\n",
       "      <td>0</td>\n",
       "      <td>0</td>\n",
       "      <td>1</td>\n",
       "      <td>0</td>\n",
       "      <td>0</td>\n",
       "      <td>1</td>\n",
       "    </tr>\n",
       "  </tbody>\n",
       "</table>\n",
       "</div>"
      ],
      "text/plain": [
       "    capacity  failure_rate      margin       price   prod_cost  \\\n",
       "0  10.492623      0.042528  633.766584  828.802103  195.035519   \n",
       "1  20.273730      0.037896  731.576817  882.894916  151.318099   \n",
       "2  20.190457      0.039111  741.218202  919.355522  178.137319   \n",
       "3  27.220131      0.041303  654.255635  817.085097  162.829462   \n",
       "4  16.370911      0.037938  703.094527  844.581465  141.486938   \n",
       "\n",
       "   product_type__auto-portee  product_type__electrique  product_type__essence  \\\n",
       "0                          1                         0                      0   \n",
       "1                          1                         0                      0   \n",
       "2                          1                         0                      0   \n",
       "3                          1                         0                      0   \n",
       "4                          1                         0                      0   \n",
       "\n",
       "   quality__Hight  quality__Low  quality__Medium  warranty__1 an  \\\n",
       "0               0             1                0               0   \n",
       "1               0             1                0               0   \n",
       "2               0             1                0               0   \n",
       "3               0             1                0               0   \n",
       "4               0             0                1               0   \n",
       "\n",
       "   warranty__2 ans  warranty__3 ans  \n",
       "0                0                1  \n",
       "1                0                1  \n",
       "2                0                1  \n",
       "3                0                1  \n",
       "4                0                1  "
      ]
     },
     "execution_count": 170,
     "metadata": {},
     "output_type": "execute_result"
    }
   ],
   "source": [
    "x_train = pd.read_csv(\"x_train\",index_col=0)\n",
    "x_train.head()"
   ]
  },
  {
   "cell_type": "code",
   "execution_count": 171,
   "metadata": {},
   "outputs": [
    {
     "data": {
      "text/plain": [
       "0    0.650648\n",
       "1    0.699792\n",
       "2    0.632129\n",
       "3    0.810730\n",
       "4    0.757614\n",
       "Name: 1, dtype: float64"
      ]
     },
     "execution_count": 171,
     "metadata": {},
     "output_type": "execute_result"
    }
   ],
   "source": [
    "y_train = pd.read_csv(\"y_train\",header=None,index_col=0).reset_index()\n",
    "y_train = pd.Series(y_train.iloc[:,1])\n",
    "y_train.head()"
   ]
  },
  {
   "cell_type": "code",
   "execution_count": 172,
   "metadata": {},
   "outputs": [
    {
     "data": {
      "text/plain": [
       "count    1399.000000\n",
       "mean        0.636507\n",
       "std         0.124016\n",
       "min         0.297384\n",
       "25%         0.549369\n",
       "50%         0.641351\n",
       "75%         0.726746\n",
       "max         0.952877\n",
       "Name: 1, dtype: float64"
      ]
     },
     "execution_count": 172,
     "metadata": {},
     "output_type": "execute_result"
    }
   ],
   "source": [
    "y_train.describe()"
   ]
  },
  {
   "cell_type": "code",
   "execution_count": 173,
   "metadata": {},
   "outputs": [
    {
     "data": {
      "text/html": [
       "<div>\n",
       "<style scoped>\n",
       "    .dataframe tbody tr th:only-of-type {\n",
       "        vertical-align: middle;\n",
       "    }\n",
       "\n",
       "    .dataframe tbody tr th {\n",
       "        vertical-align: top;\n",
       "    }\n",
       "\n",
       "    .dataframe thead th {\n",
       "        text-align: right;\n",
       "    }\n",
       "</style>\n",
       "<table border=\"1\" class=\"dataframe\">\n",
       "  <thead>\n",
       "    <tr style=\"text-align: right;\">\n",
       "      <th></th>\n",
       "      <th>capacity</th>\n",
       "      <th>failure_rate</th>\n",
       "      <th>margin</th>\n",
       "      <th>price</th>\n",
       "      <th>prod_cost</th>\n",
       "      <th>product_type__auto-portee</th>\n",
       "      <th>product_type__electrique</th>\n",
       "      <th>product_type__essence</th>\n",
       "      <th>quality__Hight</th>\n",
       "      <th>quality__Low</th>\n",
       "      <th>quality__Medium</th>\n",
       "      <th>warranty__1 an</th>\n",
       "      <th>warranty__2 ans</th>\n",
       "      <th>warranty__3 ans</th>\n",
       "    </tr>\n",
       "  </thead>\n",
       "  <tbody>\n",
       "    <tr>\n",
       "      <th>count</th>\n",
       "      <td>1399.000000</td>\n",
       "      <td>1399.000000</td>\n",
       "      <td>1399.000000</td>\n",
       "      <td>1399.000000</td>\n",
       "      <td>1399.000000</td>\n",
       "      <td>1399.000000</td>\n",
       "      <td>1399.000000</td>\n",
       "      <td>1399.000000</td>\n",
       "      <td>1399.000000</td>\n",
       "      <td>1399.000000</td>\n",
       "      <td>1399.000000</td>\n",
       "      <td>1399.000000</td>\n",
       "      <td>1399.000000</td>\n",
       "      <td>1399.000000</td>\n",
       "    </tr>\n",
       "    <tr>\n",
       "      <th>mean</th>\n",
       "      <td>47.663266</td>\n",
       "      <td>0.166448</td>\n",
       "      <td>186.262609</td>\n",
       "      <td>260.075165</td>\n",
       "      <td>56.302624</td>\n",
       "      <td>0.101501</td>\n",
       "      <td>0.295211</td>\n",
       "      <td>0.603288</td>\n",
       "      <td>0.095068</td>\n",
       "      <td>0.694067</td>\n",
       "      <td>0.210865</td>\n",
       "      <td>0.603288</td>\n",
       "      <td>0.295211</td>\n",
       "      <td>0.101501</td>\n",
       "    </tr>\n",
       "    <tr>\n",
       "      <th>std</th>\n",
       "      <td>19.840501</td>\n",
       "      <td>0.073605</td>\n",
       "      <td>191.011102</td>\n",
       "      <td>259.949127</td>\n",
       "      <td>59.461096</td>\n",
       "      <td>0.302099</td>\n",
       "      <td>0.456301</td>\n",
       "      <td>0.489390</td>\n",
       "      <td>0.293414</td>\n",
       "      <td>0.460966</td>\n",
       "      <td>0.408069</td>\n",
       "      <td>0.489390</td>\n",
       "      <td>0.456301</td>\n",
       "      <td>0.302099</td>\n",
       "    </tr>\n",
       "    <tr>\n",
       "      <th>min</th>\n",
       "      <td>0.013884</td>\n",
       "      <td>0.028906</td>\n",
       "      <td>52.943989</td>\n",
       "      <td>62.162200</td>\n",
       "      <td>7.095443</td>\n",
       "      <td>0.000000</td>\n",
       "      <td>0.000000</td>\n",
       "      <td>0.000000</td>\n",
       "      <td>0.000000</td>\n",
       "      <td>0.000000</td>\n",
       "      <td>0.000000</td>\n",
       "      <td>0.000000</td>\n",
       "      <td>0.000000</td>\n",
       "      <td>0.000000</td>\n",
       "    </tr>\n",
       "    <tr>\n",
       "      <th>25%</th>\n",
       "      <td>35.853890</td>\n",
       "      <td>0.095678</td>\n",
       "      <td>62.247602</td>\n",
       "      <td>73.379425</td>\n",
       "      <td>10.856096</td>\n",
       "      <td>0.000000</td>\n",
       "      <td>0.000000</td>\n",
       "      <td>0.000000</td>\n",
       "      <td>0.000000</td>\n",
       "      <td>0.000000</td>\n",
       "      <td>0.000000</td>\n",
       "      <td>0.000000</td>\n",
       "      <td>0.000000</td>\n",
       "      <td>0.000000</td>\n",
       "    </tr>\n",
       "    <tr>\n",
       "      <th>50%</th>\n",
       "      <td>50.309242</td>\n",
       "      <td>0.199796</td>\n",
       "      <td>66.299672</td>\n",
       "      <td>78.439753</td>\n",
       "      <td>12.339867</td>\n",
       "      <td>0.000000</td>\n",
       "      <td>0.000000</td>\n",
       "      <td>1.000000</td>\n",
       "      <td>0.000000</td>\n",
       "      <td>1.000000</td>\n",
       "      <td>0.000000</td>\n",
       "      <td>1.000000</td>\n",
       "      <td>0.000000</td>\n",
       "      <td>0.000000</td>\n",
       "    </tr>\n",
       "    <tr>\n",
       "      <th>75%</th>\n",
       "      <td>61.905015</td>\n",
       "      <td>0.228011</td>\n",
       "      <td>265.370973</td>\n",
       "      <td>384.265263</td>\n",
       "      <td>113.097207</td>\n",
       "      <td>0.000000</td>\n",
       "      <td>1.000000</td>\n",
       "      <td>1.000000</td>\n",
       "      <td>0.000000</td>\n",
       "      <td>1.000000</td>\n",
       "      <td>0.000000</td>\n",
       "      <td>1.000000</td>\n",
       "      <td>1.000000</td>\n",
       "      <td>0.000000</td>\n",
       "    </tr>\n",
       "    <tr>\n",
       "      <th>max</th>\n",
       "      <td>104.614865</td>\n",
       "      <td>0.302465</td>\n",
       "      <td>790.012898</td>\n",
       "      <td>964.973926</td>\n",
       "      <td>210.984941</td>\n",
       "      <td>1.000000</td>\n",
       "      <td>1.000000</td>\n",
       "      <td>1.000000</td>\n",
       "      <td>1.000000</td>\n",
       "      <td>1.000000</td>\n",
       "      <td>1.000000</td>\n",
       "      <td>1.000000</td>\n",
       "      <td>1.000000</td>\n",
       "      <td>1.000000</td>\n",
       "    </tr>\n",
       "  </tbody>\n",
       "</table>\n",
       "</div>"
      ],
      "text/plain": [
       "          capacity  failure_rate       margin        price    prod_cost  \\\n",
       "count  1399.000000   1399.000000  1399.000000  1399.000000  1399.000000   \n",
       "mean     47.663266      0.166448   186.262609   260.075165    56.302624   \n",
       "std      19.840501      0.073605   191.011102   259.949127    59.461096   \n",
       "min       0.013884      0.028906    52.943989    62.162200     7.095443   \n",
       "25%      35.853890      0.095678    62.247602    73.379425    10.856096   \n",
       "50%      50.309242      0.199796    66.299672    78.439753    12.339867   \n",
       "75%      61.905015      0.228011   265.370973   384.265263   113.097207   \n",
       "max     104.614865      0.302465   790.012898   964.973926   210.984941   \n",
       "\n",
       "       product_type__auto-portee  product_type__electrique  \\\n",
       "count                1399.000000               1399.000000   \n",
       "mean                    0.101501                  0.295211   \n",
       "std                     0.302099                  0.456301   \n",
       "min                     0.000000                  0.000000   \n",
       "25%                     0.000000                  0.000000   \n",
       "50%                     0.000000                  0.000000   \n",
       "75%                     0.000000                  1.000000   \n",
       "max                     1.000000                  1.000000   \n",
       "\n",
       "       product_type__essence  quality__Hight  quality__Low  quality__Medium  \\\n",
       "count            1399.000000     1399.000000   1399.000000      1399.000000   \n",
       "mean                0.603288        0.095068      0.694067         0.210865   \n",
       "std                 0.489390        0.293414      0.460966         0.408069   \n",
       "min                 0.000000        0.000000      0.000000         0.000000   \n",
       "25%                 0.000000        0.000000      0.000000         0.000000   \n",
       "50%                 1.000000        0.000000      1.000000         0.000000   \n",
       "75%                 1.000000        0.000000      1.000000         0.000000   \n",
       "max                 1.000000        1.000000      1.000000         1.000000   \n",
       "\n",
       "       warranty__1 an  warranty__2 ans  warranty__3 ans  \n",
       "count     1399.000000      1399.000000      1399.000000  \n",
       "mean         0.603288         0.295211         0.101501  \n",
       "std          0.489390         0.456301         0.302099  \n",
       "min          0.000000         0.000000         0.000000  \n",
       "25%          0.000000         0.000000         0.000000  \n",
       "50%          1.000000         0.000000         0.000000  \n",
       "75%          1.000000         1.000000         0.000000  \n",
       "max          1.000000         1.000000         1.000000  "
      ]
     },
     "execution_count": 173,
     "metadata": {},
     "output_type": "execute_result"
    }
   ],
   "source": [
    "x_train.describe()"
   ]
  },
  {
   "cell_type": "markdown",
   "metadata": {},
   "source": [
    "## Choix d'un modèle par cross-validation"
   ]
  },
  {
   "cell_type": "markdown",
   "metadata": {},
   "source": [
    "### Choix des hyper-paramètres pour trois modèles initiaux par cross-validation 3-fold"
   ]
  },
  {
   "cell_type": "markdown",
   "metadata": {},
   "source": [
    "##### SupportVectorMachine : régression"
   ]
  },
  {
   "cell_type": "markdown",
   "metadata": {},
   "source": [
    "Grille des paramètres à tester"
   ]
  },
  {
   "cell_type": "code",
   "execution_count": 174,
   "metadata": {},
   "outputs": [],
   "source": [
    "svr_param_grid = [{'kernel': ['rbf'], 'gamma': [1e-3, 1e-4,1e-5],\n",
    "                   'C': [1, 10, 100, 1000,10000]}]                "
   ]
  },
  {
   "cell_type": "markdown",
   "metadata": {},
   "source": [
    "Recherche des paramètres optimaux"
   ]
  },
  {
   "cell_type": "code",
   "execution_count": 175,
   "metadata": {
    "scrolled": true
   },
   "outputs": [
    {
     "name": "stdout",
     "output_type": "stream",
     "text": [
      "Fitting 3 folds for each of 15 candidates, totalling 45 fits\n",
      "[CV] C=1, gamma=0.001, kernel=rbf ....................................\n",
      "[CV]  C=1, gamma=0.001, kernel=rbf, score=-0.010030505023394441, total=   0.0s\n",
      "[CV] C=1, gamma=0.001, kernel=rbf ....................................\n",
      "[CV]  C=1, gamma=0.001, kernel=rbf, score=-0.005109969535930433, total=   0.0s\n",
      "[CV] C=1, gamma=0.001, kernel=rbf ....................................\n",
      "[CV]  C=1, gamma=0.001, kernel=rbf, score=-0.005995148999450902, total=   0.0s\n",
      "[CV] C=1, gamma=0.0001, kernel=rbf ...................................\n",
      "[CV]  C=1, gamma=0.0001, kernel=rbf, score=-0.008152316626225902, total=   0.0s\n",
      "[CV] C=1, gamma=0.0001, kernel=rbf ...................................\n",
      "[CV]  C=1, gamma=0.0001, kernel=rbf, score=-0.005898610340151612, total=   0.0s\n",
      "[CV] C=1, gamma=0.0001, kernel=rbf ...................................\n",
      "[CV]  C=1, gamma=0.0001, kernel=rbf, score=-0.006997905682869425, total=   0.0s\n",
      "[CV] C=1, gamma=1e-05, kernel=rbf ....................................\n"
     ]
    },
    {
     "name": "stderr",
     "output_type": "stream",
     "text": [
      "[Parallel(n_jobs=1)]: Using backend SequentialBackend with 1 concurrent workers.\n",
      "[Parallel(n_jobs=1)]: Done   1 out of   1 | elapsed:    0.0s remaining:    0.0s\n",
      "[Parallel(n_jobs=1)]: Done   2 out of   2 | elapsed:    0.1s remaining:    0.0s\n"
     ]
    },
    {
     "name": "stdout",
     "output_type": "stream",
     "text": [
      "[CV]  C=1, gamma=1e-05, kernel=rbf, score=-0.02975038986686841, total=   0.0s\n",
      "[CV] C=1, gamma=1e-05, kernel=rbf ....................................\n",
      "[CV]  C=1, gamma=1e-05, kernel=rbf, score=-0.010531223834447885, total=   0.0s\n",
      "[CV] C=1, gamma=1e-05, kernel=rbf ....................................\n",
      "[CV]  C=1, gamma=1e-05, kernel=rbf, score=-0.012454143577073569, total=   0.0s\n",
      "[CV] C=10, gamma=0.001, kernel=rbf ...................................\n",
      "[CV]  C=10, gamma=0.001, kernel=rbf, score=-0.01027702749753785, total=   0.0s\n",
      "[CV] C=10, gamma=0.001, kernel=rbf ...................................\n",
      "[CV]  C=10, gamma=0.001, kernel=rbf, score=-0.004802991021835167, total=   0.0s\n",
      "[CV] C=10, gamma=0.001, kernel=rbf ...................................\n",
      "[CV]  C=10, gamma=0.001, kernel=rbf, score=-0.00553886626749111, total=   0.0s\n",
      "[CV] C=10, gamma=0.0001, kernel=rbf ..................................\n",
      "[CV]  C=10, gamma=0.0001, kernel=rbf, score=-0.007914168429131268, total=   0.0s\n",
      "[CV] C=10, gamma=0.0001, kernel=rbf ..................................\n",
      "[CV]  C=10, gamma=0.0001, kernel=rbf, score=-0.0050845338235871625, total=   0.0s\n",
      "[CV] C=10, gamma=0.0001, kernel=rbf ..................................\n",
      "[CV]  C=10, gamma=0.0001, kernel=rbf, score=-0.0058879945625714076, total=   0.0s\n",
      "[CV] C=10, gamma=1e-05, kernel=rbf ...................................\n",
      "[CV]  C=10, gamma=1e-05, kernel=rbf, score=-0.4283947342786201, total=   0.0s\n",
      "[CV] C=10, gamma=1e-05, kernel=rbf ...................................\n",
      "[CV]  C=10, gamma=1e-05, kernel=rbf, score=-0.00724470023447749, total=   0.0s\n",
      "[CV] C=10, gamma=1e-05, kernel=rbf ...................................\n",
      "[CV]  C=10, gamma=1e-05, kernel=rbf, score=-0.008380959567762318, total=   0.0s\n",
      "[CV] C=100, gamma=0.001, kernel=rbf ..................................\n",
      "[CV]  C=100, gamma=0.001, kernel=rbf, score=-0.014177945530503286, total=   0.1s\n",
      "[CV] C=100, gamma=0.001, kernel=rbf ..................................\n",
      "[CV]  C=100, gamma=0.001, kernel=rbf, score=-0.005371252713458151, total=   0.1s\n",
      "[CV] C=100, gamma=0.001, kernel=rbf ..................................\n",
      "[CV]  C=100, gamma=0.001, kernel=rbf, score=-0.005572631268676713, total=   0.1s\n",
      "[CV] C=100, gamma=0.0001, kernel=rbf .................................\n",
      "[CV]  C=100, gamma=0.0001, kernel=rbf, score=-0.007253678054523233, total=   0.0s\n",
      "[CV] C=100, gamma=0.0001, kernel=rbf .................................\n",
      "[CV]  C=100, gamma=0.0001, kernel=rbf, score=-0.0048718975340575205, total=   0.1s\n",
      "[CV] C=100, gamma=0.0001, kernel=rbf .................................\n",
      "[CV]  C=100, gamma=0.0001, kernel=rbf, score=-0.005419039581381231, total=   0.1s\n",
      "[CV] C=100, gamma=1e-05, kernel=rbf ..................................\n",
      "[CV]  C=100, gamma=1e-05, kernel=rbf, score=-2.118936958893639, total=   0.0s\n",
      "[CV] C=100, gamma=1e-05, kernel=rbf ..................................\n",
      "[CV]  C=100, gamma=1e-05, kernel=rbf, score=-0.006025865856605562, total=   0.0s\n",
      "[CV] C=100, gamma=1e-05, kernel=rbf ..................................\n",
      "[CV]  C=100, gamma=1e-05, kernel=rbf, score=-0.0063821577660778854, total=   0.0s\n",
      "[CV] C=1000, gamma=0.001, kernel=rbf .................................\n",
      "[CV]  C=1000, gamma=0.001, kernel=rbf, score=-0.014182006849826236, total=   0.3s\n",
      "[CV] C=1000, gamma=0.001, kernel=rbf .................................\n",
      "[CV]  C=1000, gamma=0.001, kernel=rbf, score=-0.007424992679116903, total=   0.6s\n",
      "[CV] C=1000, gamma=0.001, kernel=rbf .................................\n",
      "[CV]  C=1000, gamma=0.001, kernel=rbf, score=-0.006391163840372104, total=   0.7s\n",
      "[CV] C=1000, gamma=0.0001, kernel=rbf ................................\n",
      "[CV]  C=1000, gamma=0.0001, kernel=rbf, score=-0.023109733131075075, total=   0.1s\n",
      "[CV] C=1000, gamma=0.0001, kernel=rbf ................................\n",
      "[CV]  C=1000, gamma=0.0001, kernel=rbf, score=-0.0049592061538071, total=   0.3s\n",
      "[CV] C=1000, gamma=0.0001, kernel=rbf ................................\n",
      "[CV]  C=1000, gamma=0.0001, kernel=rbf, score=-0.005417077468693407, total=   0.3s\n",
      "[CV] C=1000, gamma=1e-05, kernel=rbf .................................\n",
      "[CV]  C=1000, gamma=1e-05, kernel=rbf, score=-4.483048002554281, total=   0.1s\n",
      "[CV] C=1000, gamma=1e-05, kernel=rbf .................................\n",
      "[CV]  C=1000, gamma=1e-05, kernel=rbf, score=-0.005573974477168827, total=   0.1s\n",
      "[CV] C=1000, gamma=1e-05, kernel=rbf .................................\n",
      "[CV]  C=1000, gamma=1e-05, kernel=rbf, score=-0.00579050832313247, total=   0.1s\n",
      "[CV] C=10000, gamma=0.001, kernel=rbf ................................\n",
      "[CV]  C=10000, gamma=0.001, kernel=rbf, score=-0.04251845016704996, total=   5.2s\n",
      "[CV] C=10000, gamma=0.001, kernel=rbf ................................\n",
      "[CV]  C=10000, gamma=0.001, kernel=rbf, score=-0.01085689306183676, total=   3.8s\n",
      "[CV] C=10000, gamma=0.001, kernel=rbf ................................\n",
      "[CV]  C=10000, gamma=0.001, kernel=rbf, score=-0.007900225286724873, total=   3.4s\n",
      "[CV] C=10000, gamma=0.0001, kernel=rbf ...............................\n",
      "[CV]  C=10000, gamma=0.0001, kernel=rbf, score=-0.3050413115142501, total=   0.4s\n",
      "[CV] C=10000, gamma=0.0001, kernel=rbf ...............................\n",
      "[CV]  C=10000, gamma=0.0001, kernel=rbf, score=-0.006989645035074467, total=   2.0s\n",
      "[CV] C=10000, gamma=0.0001, kernel=rbf ...............................\n",
      "[CV]  C=10000, gamma=0.0001, kernel=rbf, score=-0.005697647885573467, total=   1.7s\n",
      "[CV] C=10000, gamma=1e-05, kernel=rbf ................................\n",
      "[CV]  C=10000, gamma=1e-05, kernel=rbf, score=-6.274876560137284, total=   0.2s\n",
      "[CV] C=10000, gamma=1e-05, kernel=rbf ................................\n",
      "[CV]  C=10000, gamma=1e-05, kernel=rbf, score=-0.006321439645531029, total=   0.6s\n",
      "[CV] C=10000, gamma=1e-05, kernel=rbf ................................\n",
      "[CV]  C=10000, gamma=1e-05, kernel=rbf, score=-0.005553021663173868, total=   0.4s\n",
      "{'C': 100, 'gamma': 0.0001, 'kernel': 'rbf'}\n",
      "-0.005849209683528811\n"
     ]
    },
    {
     "name": "stderr",
     "output_type": "stream",
     "text": [
      "[Parallel(n_jobs=1)]: Done  45 out of  45 | elapsed:   21.5s finished\n",
      "/anaconda3/lib/python3.7/site-packages/sklearn/model_selection/_search.py:841: DeprecationWarning: The default of the `iid` parameter will change from True to False in version 0.22 and will be removed in 0.24. This will change numeric results when test-set sizes are unequal.\n",
      "  DeprecationWarning)\n"
     ]
    }
   ],
   "source": [
    "gs_svr = GridSearchCV(SVR(), \n",
    "                      cv=3,\n",
    "                      scoring = 'neg_mean_squared_error',\n",
    "                      param_grid=svr_param_grid,\n",
    "                      verbose=3, \n",
    "                      pre_dispatch=\"None\")\n",
    "\n",
    "gs_svr.fit(x_train, y_train)        # entrainement\n",
    "print(gs_svr.best_params_)          # paramètres retenus\n",
    "print(gs_svr.best_score_)           # performance"
   ]
  },
  {
   "cell_type": "markdown",
   "metadata": {},
   "source": [
    "##### RandomForest : régression"
   ]
  },
  {
   "cell_type": "code",
   "execution_count": 176,
   "metadata": {
    "scrolled": true
   },
   "outputs": [
    {
     "name": "stdout",
     "output_type": "stream",
     "text": [
      "Fitting 3 folds for each of 4 candidates, totalling 12 fits\n",
      "[CV] max_features=0.7, n_estimators=500 ..............................\n"
     ]
    },
    {
     "name": "stderr",
     "output_type": "stream",
     "text": [
      "[Parallel(n_jobs=1)]: Using backend SequentialBackend with 1 concurrent workers.\n"
     ]
    },
    {
     "name": "stdout",
     "output_type": "stream",
     "text": [
      "[CV]  max_features=0.7, n_estimators=500, score=-0.01268714283676774, total=   0.9s\n",
      "[CV] max_features=0.7, n_estimators=500 ..............................\n"
     ]
    },
    {
     "name": "stderr",
     "output_type": "stream",
     "text": [
      "[Parallel(n_jobs=1)]: Done   1 out of   1 | elapsed:    0.9s remaining:    0.0s\n"
     ]
    },
    {
     "name": "stdout",
     "output_type": "stream",
     "text": [
      "[CV]  max_features=0.7, n_estimators=500, score=-0.0016443853551731074, total=   0.9s\n",
      "[CV] max_features=0.7, n_estimators=500 ..............................\n"
     ]
    },
    {
     "name": "stderr",
     "output_type": "stream",
     "text": [
      "[Parallel(n_jobs=1)]: Done   2 out of   2 | elapsed:    1.9s remaining:    0.0s\n"
     ]
    },
    {
     "name": "stdout",
     "output_type": "stream",
     "text": [
      "[CV]  max_features=0.7, n_estimators=500, score=-0.0023028023118288384, total=   0.9s\n",
      "[CV] max_features=0.8, n_estimators=500 ..............................\n",
      "[CV]  max_features=0.8, n_estimators=500, score=-0.012830935131568362, total=   1.0s\n",
      "[CV] max_features=0.8, n_estimators=500 ..............................\n",
      "[CV]  max_features=0.8, n_estimators=500, score=-0.001678612107980949, total=   1.0s\n",
      "[CV] max_features=0.8, n_estimators=500 ..............................\n",
      "[CV]  max_features=0.8, n_estimators=500, score=-0.0023285505290174435, total=   1.0s\n",
      "[CV] max_features=0.9, n_estimators=500 ..............................\n",
      "[CV]  max_features=0.9, n_estimators=500, score=-0.013309463815349799, total=   1.1s\n",
      "[CV] max_features=0.9, n_estimators=500 ..............................\n",
      "[CV]  max_features=0.9, n_estimators=500, score=-0.0016729344855152103, total=   1.1s\n",
      "[CV] max_features=0.9, n_estimators=500 ..............................\n",
      "[CV]  max_features=0.9, n_estimators=500, score=-0.0023393215969675345, total=   1.1s\n",
      "[CV] max_features=1, n_estimators=500 ................................\n",
      "[CV]  max_features=1, n_estimators=500, score=-0.008680561639678846, total=   0.4s\n",
      "[CV] max_features=1, n_estimators=500 ................................\n",
      "[CV]  max_features=1, n_estimators=500, score=-0.0017534345264749226, total=   0.4s\n",
      "[CV] max_features=1, n_estimators=500 ................................\n",
      "[CV]  max_features=1, n_estimators=500, score=-0.002416021673670288, total=   0.4s\n"
     ]
    },
    {
     "name": "stderr",
     "output_type": "stream",
     "text": [
      "[Parallel(n_jobs=1)]: Done  12 out of  12 | elapsed:   11.1s finished\n"
     ]
    },
    {
     "name": "stdout",
     "output_type": "stream",
     "text": [
      "{'max_features': 1, 'n_estimators': 500}\n",
      "-0.004286482398139878\n"
     ]
    }
   ],
   "source": [
    "rfr_param_grid = [{'max_features': [0.7, 0.8, 0.9, 1],\n",
    "                   'n_estimators':[500]}]\n",
    "\n",
    "gs_rfr = GridSearchCV(RandomForestRegressor(),\n",
    "                              scoring = 'neg_mean_squared_log_error',\n",
    "                              param_grid=rfr_param_grid,\n",
    "                              cv=3,\n",
    "                              verbose=3)\n",
    "gs_rfr.fit(x_train, y_train)\n",
    "print(gs_rfr.best_params_)\n",
    "print(gs_rfr.best_score_)"
   ]
  },
  {
   "cell_type": "markdown",
   "metadata": {},
   "source": [
    "##### AdaBoost : régression"
   ]
  },
  {
   "cell_type": "code",
   "execution_count": 177,
   "metadata": {
    "scrolled": true
   },
   "outputs": [
    {
     "name": "stdout",
     "output_type": "stream",
     "text": [
      "Fitting 3 folds for each of 12 candidates, totalling 36 fits\n",
      "[CV] learning_rate=0.01, loss=linear, n_estimators=500 ...............\n"
     ]
    },
    {
     "name": "stderr",
     "output_type": "stream",
     "text": [
      "[Parallel(n_jobs=1)]: Using backend SequentialBackend with 1 concurrent workers.\n"
     ]
    },
    {
     "name": "stdout",
     "output_type": "stream",
     "text": [
      "[CV]  learning_rate=0.01, loss=linear, n_estimators=500, score=-0.006599731305499944, total=   0.8s\n",
      "[CV] learning_rate=0.01, loss=linear, n_estimators=500 ...............\n"
     ]
    },
    {
     "name": "stderr",
     "output_type": "stream",
     "text": [
      "[Parallel(n_jobs=1)]: Done   1 out of   1 | elapsed:    0.8s remaining:    0.0s\n"
     ]
    },
    {
     "name": "stdout",
     "output_type": "stream",
     "text": [
      "[CV]  learning_rate=0.01, loss=linear, n_estimators=500, score=-0.0034975486639314927, total=   0.8s\n",
      "[CV] learning_rate=0.01, loss=linear, n_estimators=500 ...............\n"
     ]
    },
    {
     "name": "stderr",
     "output_type": "stream",
     "text": [
      "[Parallel(n_jobs=1)]: Done   2 out of   2 | elapsed:    1.7s remaining:    0.0s\n"
     ]
    },
    {
     "name": "stdout",
     "output_type": "stream",
     "text": [
      "[CV]  learning_rate=0.01, loss=linear, n_estimators=500, score=-0.004483068049391308, total=   0.8s\n",
      "[CV] learning_rate=0.01, loss=square, n_estimators=500 ...............\n",
      "[CV]  learning_rate=0.01, loss=square, n_estimators=500, score=-0.007321711335788905, total=   0.7s\n",
      "[CV] learning_rate=0.01, loss=square, n_estimators=500 ...............\n",
      "[CV]  learning_rate=0.01, loss=square, n_estimators=500, score=-0.003228396913291714, total=   0.8s\n",
      "[CV] learning_rate=0.01, loss=square, n_estimators=500 ...............\n",
      "[CV]  learning_rate=0.01, loss=square, n_estimators=500, score=-0.0037339284949829124, total=   0.7s\n",
      "[CV] learning_rate=0.01, loss=exponential, n_estimators=500 ..........\n",
      "[CV]  learning_rate=0.01, loss=exponential, n_estimators=500, score=-0.006460171289822291, total=   0.8s\n",
      "[CV] learning_rate=0.01, loss=exponential, n_estimators=500 ..........\n",
      "[CV]  learning_rate=0.01, loss=exponential, n_estimators=500, score=-0.003527822935830307, total=   0.8s\n",
      "[CV] learning_rate=0.01, loss=exponential, n_estimators=500 ..........\n",
      "[CV]  learning_rate=0.01, loss=exponential, n_estimators=500, score=-0.0046364005404336, total=   0.8s\n",
      "[CV] learning_rate=0.1, loss=linear, n_estimators=500 ................\n",
      "[CV]  learning_rate=0.1, loss=linear, n_estimators=500, score=-0.008232078483144483, total=   0.5s\n",
      "[CV] learning_rate=0.1, loss=linear, n_estimators=500 ................\n",
      "[CV]  learning_rate=0.1, loss=linear, n_estimators=500, score=-0.0025887742916756275, total=   0.4s\n",
      "[CV] learning_rate=0.1, loss=linear, n_estimators=500 ................\n",
      "[CV]  learning_rate=0.1, loss=linear, n_estimators=500, score=-0.0029511807634867724, total=   0.6s\n",
      "[CV] learning_rate=0.1, loss=square, n_estimators=500 ................\n",
      "[CV]  learning_rate=0.1, loss=square, n_estimators=500, score=-0.00873548864878802, total=   0.6s\n",
      "[CV] learning_rate=0.1, loss=square, n_estimators=500 ................\n",
      "[CV]  learning_rate=0.1, loss=square, n_estimators=500, score=-0.0026162670390769186, total=   0.6s\n",
      "[CV] learning_rate=0.1, loss=square, n_estimators=500 ................\n",
      "[CV]  learning_rate=0.1, loss=square, n_estimators=500, score=-0.00302820761110234, total=   0.6s\n",
      "[CV] learning_rate=0.1, loss=exponential, n_estimators=500 ...........\n",
      "[CV]  learning_rate=0.1, loss=exponential, n_estimators=500, score=-0.008447300600772376, total=   0.7s\n",
      "[CV] learning_rate=0.1, loss=exponential, n_estimators=500 ...........\n",
      "[CV]  learning_rate=0.1, loss=exponential, n_estimators=500, score=-0.0024179593389296586, total=   0.7s\n",
      "[CV] learning_rate=0.1, loss=exponential, n_estimators=500 ...........\n",
      "[CV]  learning_rate=0.1, loss=exponential, n_estimators=500, score=-0.002916375719878834, total=   0.6s\n",
      "[CV] learning_rate=1, loss=linear, n_estimators=500 ..................\n",
      "[CV]  learning_rate=1, loss=linear, n_estimators=500, score=-0.008923745120393548, total=   0.1s\n",
      "[CV] learning_rate=1, loss=linear, n_estimators=500 ..................\n",
      "[CV]  learning_rate=1, loss=linear, n_estimators=500, score=-0.0024884472482598887, total=   0.1s\n",
      "[CV] learning_rate=1, loss=linear, n_estimators=500 ..................\n",
      "[CV]  learning_rate=1, loss=linear, n_estimators=500, score=-0.0026034524393688968, total=   0.5s\n",
      "[CV] learning_rate=1, loss=square, n_estimators=500 ..................\n",
      "[CV]  learning_rate=1, loss=square, n_estimators=500, score=-0.009840323503974922, total=   0.5s\n",
      "[CV] learning_rate=1, loss=square, n_estimators=500 ..................\n",
      "[CV]  learning_rate=1, loss=square, n_estimators=500, score=-0.00220620620494742, total=   0.5s\n",
      "[CV] learning_rate=1, loss=square, n_estimators=500 ..................\n",
      "[CV]  learning_rate=1, loss=square, n_estimators=500, score=-0.002520494164850692, total=   0.5s\n",
      "[CV] learning_rate=1, loss=exponential, n_estimators=500 .............\n",
      "[CV]  learning_rate=1, loss=exponential, n_estimators=500, score=-0.009142021990565423, total=   0.5s\n",
      "[CV] learning_rate=1, loss=exponential, n_estimators=500 .............\n",
      "[CV]  learning_rate=1, loss=exponential, n_estimators=500, score=-0.0023048828768277825, total=   0.5s\n",
      "[CV] learning_rate=1, loss=exponential, n_estimators=500 .............\n",
      "[CV]  learning_rate=1, loss=exponential, n_estimators=500, score=-0.0025960373452716262, total=   0.5s\n",
      "[CV] learning_rate=10, loss=linear, n_estimators=500 .................\n",
      "[CV]  learning_rate=10, loss=linear, n_estimators=500, score=-0.0172549746069806, total=   0.3s\n",
      "[CV] learning_rate=10, loss=linear, n_estimators=500 .................\n",
      "[CV]  learning_rate=10, loss=linear, n_estimators=500, score=-0.01819640270247796, total=   0.3s\n",
      "[CV] learning_rate=10, loss=linear, n_estimators=500 .................\n",
      "[CV]  learning_rate=10, loss=linear, n_estimators=500, score=-0.01322950898597561, total=   0.3s\n",
      "[CV] learning_rate=10, loss=square, n_estimators=500 .................\n",
      "[CV]  learning_rate=10, loss=square, n_estimators=500, score=-0.056492748115455106, total=   0.3s\n",
      "[CV] learning_rate=10, loss=square, n_estimators=500 .................\n",
      "[CV]  learning_rate=10, loss=square, n_estimators=500, score=-0.05732129864434482, total=   0.3s\n",
      "[CV] learning_rate=10, loss=square, n_estimators=500 .................\n",
      "[CV]  learning_rate=10, loss=square, n_estimators=500, score=-0.01923028480486831, total=   0.3s\n",
      "[CV] learning_rate=10, loss=exponential, n_estimators=500 ............\n",
      "[CV]  learning_rate=10, loss=exponential, n_estimators=500, score=-0.007664511493411521, total=   0.3s\n",
      "[CV] learning_rate=10, loss=exponential, n_estimators=500 ............\n",
      "[CV]  learning_rate=10, loss=exponential, n_estimators=500, score=-0.0054394960190339466, total=   0.3s\n",
      "[CV] learning_rate=10, loss=exponential, n_estimators=500 ............\n",
      "[CV]  learning_rate=10, loss=exponential, n_estimators=500, score=-0.005369396868409502, total=   0.3s\n"
     ]
    },
    {
     "name": "stderr",
     "output_type": "stream",
     "text": [
      "[Parallel(n_jobs=1)]: Done  36 out of  36 | elapsed:   20.3s finished\n"
     ]
    },
    {
     "name": "stdout",
     "output_type": "stream",
     "text": [
      "{'learning_rate': 0.1, 'loss': 'linear', 'n_estimators': 500}\n",
      "-0.004593280705742782\n"
     ]
    }
   ],
   "source": [
    "ada_param_grid = [{'loss' : ['linear', 'square', 'exponential'],\n",
    "                   'learning_rate': [10**n for n in range(-2,2)],\n",
    "                   'n_estimators':[500]}]\n",
    "\n",
    "gs_ada = GridSearchCV(AdaBoostRegressor(),\n",
    "                              scoring = 'neg_mean_squared_log_error',\n",
    "                              param_grid=ada_param_grid,\n",
    "                              cv=3,\n",
    "                              verbose=3)\n",
    "gs_ada.fit(x_train, y_train)\n",
    "print(gs_ada.best_params_)\n",
    "print(gs_ada.best_score_)"
   ]
  },
  {
   "cell_type": "markdown",
   "metadata": {},
   "source": [
    "### Création d'un index aléatoire pour découper les données en 5 parties"
   ]
  },
  {
   "cell_type": "code",
   "execution_count": 178,
   "metadata": {},
   "outputs": [],
   "source": [
    "random.seed(2805) # on initialise la randomization pour que les résultats soient \n",
    "                  # reproductibles\n",
    "index = np.random.randint(0,5,size=x_train.shape[0])"
   ]
  },
  {
   "cell_type": "markdown",
   "metadata": {},
   "source": [
    "On vérifie que l'on a bien un vecteur composé de chiffres allant de 0 à 4 répartis de manière équilibrée."
   ]
  },
  {
   "cell_type": "code",
   "execution_count": 179,
   "metadata": {},
   "outputs": [
    {
     "name": "stdout",
     "output_type": "stream",
     "text": [
      "True\n",
      "(array([0, 1, 2, 3, 4]), array([245, 306, 281, 288, 279]))\n"
     ]
    }
   ],
   "source": [
    "occ = np.unique(index,return_counts=True)\n",
    "print(sum(occ[1]) == x_train.shape[0])\n",
    "print(occ)"
   ]
  },
  {
   "cell_type": "markdown",
   "metadata": {},
   "source": [
    "### Optimisation de paramètres pour le modèle SVM - régression"
   ]
  },
  {
   "cell_type": "markdown",
   "metadata": {},
   "source": [
    "##### Fonction de perte"
   ]
  },
  {
   "cell_type": "markdown",
   "metadata": {},
   "source": [
    "Fonction pour calculer le RMSLE inspirée du code de Mark Nagelberg : https://www.kaggle.com/marknagelberg/rmsle-function"
   ]
  },
  {
   "cell_type": "code",
   "execution_count": 180,
   "metadata": {},
   "outputs": [],
   "source": [
    "def rmsle(y, y_pred):\n",
    "    assert len(y) == len(y_pred)\n",
    "    terms_to_sum = [(math.log(y_pred.iloc[i] + 1) - math.log(y.iloc[i] + 1))**2.0 \n",
    "                    for i,pred in enumerate(y_pred)]\n",
    "    return (sum(terms_to_sum) * (1.0/len(y)))**0.5"
   ]
  },
  {
   "cell_type": "markdown",
   "metadata": {},
   "source": [
    "#### Fonction à optimiser"
   ]
  },
  {
   "cell_type": "markdown",
   "metadata": {},
   "source": [
    "On utilise l'inverse du RMSLE parce qu'on utilise ensuite une recherche de maximum."
   ]
  },
  {
   "cell_type": "code",
   "execution_count": 181,
   "metadata": {},
   "outputs": [
    {
     "data": {
      "text/plain": [
       "-0.07680729089140009"
      ]
     },
     "execution_count": 181,
     "metadata": {},
     "output_type": "execute_result"
    }
   ],
   "source": [
    "def svr_results_function(C,gamma):\n",
    "    pred = pd.Series(\"NA\", index=np.arange(len(y_train)))\n",
    "    for ii in range(5):\n",
    "        test_ii  = (index==ii) # pour chacun des 5 passages on teste sur la partie ii \n",
    "        train_ii = (index!=ii) # et on entraine les modèles sur le reste des données\n",
    "        \n",
    "        svr = SVR(C=C,gamma=gamma,kernel='rbf')                \n",
    "        fit = svr.fit(x_train.iloc[train_ii,:],y_train.iloc[train_ii])      \n",
    "        pred.loc[test_ii] = svr.predict(x_train.iloc[test_ii,:])\n",
    "    \n",
    "    return -rmsle(y_train,pred)\n",
    "\n",
    "svr_results_function(0.01,100)"
   ]
  },
  {
   "cell_type": "markdown",
   "metadata": {},
   "source": [
    "#### Bayesian optimizer"
   ]
  },
  {
   "cell_type": "code",
   "execution_count": 182,
   "metadata": {},
   "outputs": [],
   "source": [
    "from bayes_opt import BayesianOptimization"
   ]
  },
  {
   "cell_type": "markdown",
   "metadata": {},
   "source": [
    "Bounded region of parameter space"
   ]
  },
  {
   "cell_type": "code",
   "execution_count": 183,
   "metadata": {
    "scrolled": true
   },
   "outputs": [
    {
     "name": "stdout",
     "output_type": "stream",
     "text": [
      "|   iter    |  target   |     C     |   gamma   |\n",
      "-------------------------------------------------\n",
      "| \u001b[0m 1       \u001b[0m | \u001b[0m-0.05491 \u001b[0m | \u001b[0m 4.171e+0\u001b[0m | \u001b[0m 0.000286\u001b[0m |\n",
      "| \u001b[95m 2       \u001b[0m | \u001b[95m-0.04827 \u001b[0m | \u001b[95m 2.144   \u001b[0m | \u001b[95m 0.000700\u001b[0m |\n",
      "| \u001b[0m 3       \u001b[0m | \u001b[0m-0.0705  \u001b[0m | \u001b[0m 1e+04   \u001b[0m | \u001b[0m 0.001   \u001b[0m |\n",
      "| \u001b[0m 4       \u001b[0m | \u001b[0m-0.04889 \u001b[0m | \u001b[0m 1.059   \u001b[0m | \u001b[0m 0.001   \u001b[0m |\n",
      "| \u001b[0m 5       \u001b[0m | \u001b[0m-0.04875 \u001b[0m | \u001b[0m 1.239   \u001b[0m | \u001b[0m 0.001   \u001b[0m |\n",
      "| \u001b[0m 6       \u001b[0m | \u001b[0m-0.04878 \u001b[0m | \u001b[0m 1.203   \u001b[0m | \u001b[0m 0.001   \u001b[0m |\n",
      "| \u001b[0m 7       \u001b[0m | \u001b[0m-0.0489  \u001b[0m | \u001b[0m 1.05    \u001b[0m | \u001b[0m 0.001   \u001b[0m |\n",
      "| \u001b[0m 8       \u001b[0m | \u001b[0m-0.04868 \u001b[0m | \u001b[0m 1.342   \u001b[0m | \u001b[0m 0.001   \u001b[0m |\n",
      "| \u001b[0m 9       \u001b[0m | \u001b[0m-0.04875 \u001b[0m | \u001b[0m 1.232   \u001b[0m | \u001b[0m 0.001   \u001b[0m |\n",
      "| \u001b[0m 10      \u001b[0m | \u001b[0m-0.04857 \u001b[0m | \u001b[0m 1.474   \u001b[0m | \u001b[0m 0.001   \u001b[0m |\n",
      "| \u001b[0m 11      \u001b[0m | \u001b[0m-0.04885 \u001b[0m | \u001b[0m 1.123   \u001b[0m | \u001b[0m 0.001   \u001b[0m |\n",
      "| \u001b[0m 12      \u001b[0m | \u001b[0m-0.04887 \u001b[0m | \u001b[0m 1.106   \u001b[0m | \u001b[0m 0.001   \u001b[0m |\n",
      "| \u001b[0m 13      \u001b[0m | \u001b[0m-0.04842 \u001b[0m | \u001b[0m 1.863   \u001b[0m | \u001b[0m 0.001   \u001b[0m |\n",
      "| \u001b[0m 14      \u001b[0m | \u001b[0m-0.04874 \u001b[0m | \u001b[0m 1.241   \u001b[0m | \u001b[0m 0.001   \u001b[0m |\n",
      "| \u001b[0m 15      \u001b[0m | \u001b[0m-0.04886 \u001b[0m | \u001b[0m 1.116   \u001b[0m | \u001b[0m 0.001   \u001b[0m |\n",
      "| \u001b[0m 16      \u001b[0m | \u001b[0m-0.04835 \u001b[0m | \u001b[0m 2.088   \u001b[0m | \u001b[0m 0.001   \u001b[0m |\n",
      "| \u001b[0m 17      \u001b[0m | \u001b[0m-0.04847 \u001b[0m | \u001b[0m 1.583   \u001b[0m | \u001b[0m 0.001   \u001b[0m |\n",
      "| \u001b[0m 18      \u001b[0m | \u001b[0m-0.04883 \u001b[0m | \u001b[0m 1.15    \u001b[0m | \u001b[0m 0.001   \u001b[0m |\n",
      "| \u001b[95m 19      \u001b[0m | \u001b[95m-0.04819 \u001b[0m | \u001b[95m 2.44    \u001b[0m | \u001b[95m 0.001   \u001b[0m |\n",
      "| \u001b[0m 20      \u001b[0m | \u001b[0m-0.04873 \u001b[0m | \u001b[0m 1.255   \u001b[0m | \u001b[0m 0.001   \u001b[0m |\n",
      "| \u001b[0m 21      \u001b[0m | \u001b[0m-0.04886 \u001b[0m | \u001b[0m 1.12    \u001b[0m | \u001b[0m 0.001   \u001b[0m |\n",
      "| \u001b[0m 22      \u001b[0m | \u001b[0m-0.04883 \u001b[0m | \u001b[0m 1.145   \u001b[0m | \u001b[0m 0.001   \u001b[0m |\n",
      "| \u001b[0m 23      \u001b[0m | \u001b[0m-0.04831 \u001b[0m | \u001b[0m 2.189   \u001b[0m | \u001b[0m 0.001   \u001b[0m |\n",
      "| \u001b[0m 24      \u001b[0m | \u001b[0m-0.04881 \u001b[0m | \u001b[0m 1.163   \u001b[0m | \u001b[0m 0.001   \u001b[0m |\n",
      "| \u001b[0m 25      \u001b[0m | \u001b[0m-0.04866 \u001b[0m | \u001b[0m 1.363   \u001b[0m | \u001b[0m 0.001   \u001b[0m |\n",
      "| \u001b[95m 26      \u001b[0m | \u001b[95m-0.04812 \u001b[0m | \u001b[95m 2.779   \u001b[0m | \u001b[95m 0.001   \u001b[0m |\n",
      "| \u001b[0m 27      \u001b[0m | \u001b[0m-0.04834 \u001b[0m | \u001b[0m 2.103   \u001b[0m | \u001b[0m 0.001   \u001b[0m |\n",
      "| \u001b[0m 28      \u001b[0m | \u001b[0m-0.0483  \u001b[0m | \u001b[0m 2.208   \u001b[0m | \u001b[0m 0.001   \u001b[0m |\n",
      "| \u001b[0m 29      \u001b[0m | \u001b[0m-0.04843 \u001b[0m | \u001b[0m 1.654   \u001b[0m | \u001b[0m 0.001   \u001b[0m |\n",
      "| \u001b[0m 30      \u001b[0m | \u001b[0m-0.04891 \u001b[0m | \u001b[0m 1.007   \u001b[0m | \u001b[0m 0.001   \u001b[0m |\n",
      "| \u001b[0m 31      \u001b[0m | \u001b[0m-0.04826 \u001b[0m | \u001b[0m 2.285   \u001b[0m | \u001b[0m 0.001   \u001b[0m |\n",
      "| \u001b[0m 32      \u001b[0m | \u001b[0m-0.04845 \u001b[0m | \u001b[0m 1.615   \u001b[0m | \u001b[0m 0.001   \u001b[0m |\n",
      "| \u001b[0m 33      \u001b[0m | \u001b[0m-0.04878 \u001b[0m | \u001b[0m 1.194   \u001b[0m | \u001b[0m 0.001   \u001b[0m |\n",
      "| \u001b[0m 34      \u001b[0m | \u001b[0m-0.04858 \u001b[0m | \u001b[0m 1.464   \u001b[0m | \u001b[0m 0.001   \u001b[0m |\n",
      "| \u001b[95m 35      \u001b[0m | \u001b[95m-0.04806 \u001b[0m | \u001b[95m 6.407   \u001b[0m | \u001b[95m 0.001   \u001b[0m |\n",
      "| \u001b[0m 36      \u001b[0m | \u001b[0m-0.04842 \u001b[0m | \u001b[0m 1.841   \u001b[0m | \u001b[0m 0.001   \u001b[0m |\n",
      "| \u001b[0m 37      \u001b[0m | \u001b[0m-0.04811 \u001b[0m | \u001b[0m 3.281   \u001b[0m | \u001b[0m 0.001   \u001b[0m |\n",
      "| \u001b[0m 38      \u001b[0m | \u001b[0m-0.04815 \u001b[0m | \u001b[0m 2.61    \u001b[0m | \u001b[0m 0.001   \u001b[0m |\n",
      "| \u001b[0m 39      \u001b[0m | \u001b[0m-0.04808 \u001b[0m | \u001b[0m 6.766   \u001b[0m | \u001b[0m 0.001   \u001b[0m |\n",
      "| \u001b[0m 40      \u001b[0m | \u001b[0m-0.0481  \u001b[0m | \u001b[0m 3.54    \u001b[0m | \u001b[0m 0.001   \u001b[0m |\n",
      "| \u001b[0m 41      \u001b[0m | \u001b[0m-0.0481  \u001b[0m | \u001b[0m 3.882   \u001b[0m | \u001b[0m 0.001   \u001b[0m |\n",
      "| \u001b[0m 42      \u001b[0m | \u001b[0m-0.04842 \u001b[0m | \u001b[0m 1.739   \u001b[0m | \u001b[0m 0.001   \u001b[0m |\n",
      "| \u001b[0m 43      \u001b[0m | \u001b[0m-0.04838 \u001b[0m | \u001b[0m 1.986   \u001b[0m | \u001b[0m 0.001   \u001b[0m |\n",
      "| \u001b[0m 44      \u001b[0m | \u001b[0m-0.0481  \u001b[0m | \u001b[0m 3.528   \u001b[0m | \u001b[0m 0.001   \u001b[0m |\n",
      "| \u001b[0m 45      \u001b[0m | \u001b[0m-0.04861 \u001b[0m | \u001b[0m 1.429   \u001b[0m | \u001b[0m 0.001   \u001b[0m |\n",
      "| \u001b[0m 46      \u001b[0m | \u001b[0m-0.04817 \u001b[0m | \u001b[0m 8.016   \u001b[0m | \u001b[0m 0.001   \u001b[0m |\n",
      "| \u001b[95m 47      \u001b[0m | \u001b[95m-0.04799 \u001b[0m | \u001b[95m 5.644   \u001b[0m | \u001b[95m 0.001   \u001b[0m |\n",
      "| \u001b[0m 48      \u001b[0m | \u001b[0m-0.04841 \u001b[0m | \u001b[0m 1.861   \u001b[0m | \u001b[0m 0.001   \u001b[0m |\n",
      "| \u001b[0m 49      \u001b[0m | \u001b[0m-0.04876 \u001b[0m | \u001b[0m 1.226   \u001b[0m | \u001b[0m 0.001   \u001b[0m |\n",
      "| \u001b[0m 50      \u001b[0m | \u001b[0m-0.04874 \u001b[0m | \u001b[0m 1.256   \u001b[0m | \u001b[0m 0.001   \u001b[0m |\n",
      "| \u001b[0m 51      \u001b[0m | \u001b[0m-0.04843 \u001b[0m | \u001b[0m 1.651   \u001b[0m | \u001b[0m 0.001   \u001b[0m |\n",
      "| \u001b[0m 52      \u001b[0m | \u001b[0m-0.0489  \u001b[0m | \u001b[0m 1.042   \u001b[0m | \u001b[0m 0.001   \u001b[0m |\n",
      "=================================================\n"
     ]
    }
   ],
   "source": [
    "pbounds = {'gamma': (1e-3,1e-5),'C': (1,10000)}\n",
    "\n",
    "optimizer = BayesianOptimization(\n",
    "    f=svr_results_function,\n",
    "    pbounds=pbounds,\n",
    "    random_state=1)\n",
    "\n",
    "optimizer.maximize(\n",
    "    init_points=2,\n",
    "    n_iter=50,\n",
    ")"
   ]
  },
  {
   "cell_type": "markdown",
   "metadata": {},
   "source": [
    "### Initialisation du DataFrame des prédictions"
   ]
  },
  {
   "cell_type": "markdown",
   "metadata": {},
   "source": [
    "On teste n modèles."
   ]
  },
  {
   "cell_type": "code",
   "execution_count": 184,
   "metadata": {},
   "outputs": [],
   "source": [
    "model_list = [\"TRUE\",\"svr\",\"rfr\",\"ada\",\"agr\",\"agr1\",\"agr2\",\"agr3\",\"meta1\",\"meta2\",\"svr_bayes\"]"
   ]
  },
  {
   "cell_type": "markdown",
   "metadata": {},
   "source": [
    "On construit un DataFrame rempli de NaN avec autant de lignes que les données d'entraînement."
   ]
  },
  {
   "cell_type": "code",
   "execution_count": 185,
   "metadata": {},
   "outputs": [],
   "source": [
    "pred = pd.DataFrame(\"NA\", index=np.arange(len(y_train)), columns=model_list)"
   ]
  },
  {
   "cell_type": "markdown",
   "metadata": {},
   "source": [
    "La colonne \"TRUE\" contient les vraies valeurs."
   ]
  },
  {
   "cell_type": "code",
   "execution_count": 186,
   "metadata": {},
   "outputs": [],
   "source": [
    "pred[\"TRUE\"]=y_train"
   ]
  },
  {
   "cell_type": "markdown",
   "metadata": {},
   "source": [
    "On vérifie le format de la table."
   ]
  },
  {
   "cell_type": "code",
   "execution_count": 187,
   "metadata": {},
   "outputs": [
    {
     "name": "stdout",
     "output_type": "stream",
     "text": [
      "(1399, 11)\n"
     ]
    }
   ],
   "source": [
    "print(pred.shape)"
   ]
  },
  {
   "cell_type": "markdown",
   "metadata": {},
   "source": [
    "### Calcul des prédictions"
   ]
  },
  {
   "cell_type": "markdown",
   "metadata": {},
   "source": [
    "##### Modèles initiaux"
   ]
  },
  {
   "cell_type": "markdown",
   "metadata": {},
   "source": [
    "On utilise les paramètres optimisés pour comparer les 3 modèles initaux par cross-validation."
   ]
  },
  {
   "cell_type": "code",
   "execution_count": 188,
   "metadata": {},
   "outputs": [
    {
     "name": "stdout",
     "output_type": "stream",
     "text": [
      "searchGrid : 100   bayes : 5.6435373871940495\n",
      "searchGrid : 0.0001   bayes : 0.001\n",
      "Étape 1\n",
      "Étape 2\n",
      "Étape 3\n",
      "Étape 4\n",
      "Étape 5\n"
     ]
    }
   ],
   "source": [
    "print(\"searchGrid : {}   bayes : {}\".format(gs_svr.best_params_['C'],optimizer.max['params']['C']))\n",
    "\n",
    "print(\"searchGrid : {}   bayes : {}\".format(gs_svr.best_params_['gamma'],optimizer.max['params']['gamma']))\n",
    "\n",
    "for ii in range(5):\n",
    "    test_ii  = (index==ii) # pour chacun des 5 passages on teste sur la partie ii \n",
    "    train_ii = (index!=ii) # et on entraine les modèles sur le reste des données\n",
    "    \n",
    "    # SVR\n",
    "    svr = SVR(C     =gs_svr.best_params_['C'],                     # paramètres\n",
    "              gamma =gs_svr.best_params_['gamma'],                 # optimisés\n",
    "              kernel=gs_svr.best_params_['kernel'])                \n",
    "    svr.fit(x_train.iloc[train_ii,:],y_train.iloc[train_ii])       # fit sur !ii\n",
    "    pred.loc[test_ii,\"svr\"] = svr.predict(x_train.iloc[test_ii,:]) # prédiction sur ii\n",
    "    \n",
    "    # RandomForestRegressor\n",
    "    rfr = RandomForestRegressor(max_features =gs_rfr.best_params_['max_features'],\n",
    "                                 n_estimators=gs_rfr.best_params_['n_estimators'])\n",
    "    rfr.fit(x_train.iloc[train_ii,:],y_train.iloc[train_ii])\n",
    "    pred.loc[test_ii,\"rfr\"] = rfr.predict(x_train.iloc[test_ii,:])\n",
    "\n",
    "    # AdaBoostRegressor\n",
    "    ada = AdaBoostRegressor(learning_rate=gs_ada.best_params_['learning_rate'],\n",
    "                            loss         =gs_ada.best_params_['loss'],\n",
    "                            n_estimators =gs_ada.best_params_['n_estimators'])\n",
    "    ada.fit(x_train.iloc[train_ii,:],y_train.iloc[train_ii])\n",
    "    pred.loc[test_ii,\"ada\"] = ada.predict(x_train.iloc[test_ii,:])\n",
    "    \n",
    "    # SVR avec paramètres avec optimisation bayesienne\n",
    "    svr_bayes = SVR(C     =optimizer.max['params']['C'], # paramètres\n",
    "                    gamma =optimizer.max['params']['gamma'],   # optimisés\n",
    "                    kernel=gs_svr.best_params_['kernel'])                \n",
    "    svr_bayes.fit(x_train.iloc[train_ii,:],y_train.iloc[train_ii])       # fit sur !ii\n",
    "    pred.loc[test_ii,\"svr_bayes\"] = svr_bayes.predict(x_train.iloc[test_ii,:]) # prédiction sur ii\n",
    "    \n",
    "    # verbose\n",
    "    print(\"Étape \" + str(ii+1))"
   ]
  },
  {
   "cell_type": "markdown",
   "metadata": {},
   "source": [
    "##### Modèles agrégés"
   ]
  },
  {
   "cell_type": "markdown",
   "metadata": {},
   "source": [
    "L'agrégation de modèles permet parfois de réduire la variance des résultats et donc d'améliorer la prédiction."
   ]
  },
  {
   "cell_type": "code",
   "execution_count": 189,
   "metadata": {},
   "outputs": [],
   "source": [
    "pred[\"agr\"]  = (pred[\"svr\"] + pred[\"ada\"] + pred[\"rfr\"])/3\n",
    "pred[\"agr1\"] = (pred[\"ada\"] + pred[\"rfr\"])/2\n",
    "pred[\"agr2\"] = (pred[\"svr\"] + pred[\"rfr\"])/2\n",
    "pred[\"agr3\"] = (pred[\"svr\"] + pred[\"ada\"])/2"
   ]
  },
  {
   "cell_type": "markdown",
   "metadata": {},
   "source": [
    "### Méta-modèles"
   ]
  },
  {
   "cell_type": "markdown",
   "metadata": {},
   "source": [
    "On teste un algorithme de bagging (même principe que le random forest) avec comme régresseur de base un modèle SVR."
   ]
  },
  {
   "cell_type": "code",
   "execution_count": 190,
   "metadata": {},
   "outputs": [
    {
     "name": "stdout",
     "output_type": "stream",
     "text": [
      "Étape 1\n",
      "Étape 2\n",
      "Étape 3\n",
      "Étape 4\n",
      "Étape 5\n"
     ]
    }
   ],
   "source": [
    "for ii in range(5):\n",
    "    train_ii = (index!=ii)\n",
    "    test_ii  = (index==ii)\n",
    "    bagSVR = BaggingRegressor(SVR(C        =gs_svr.best_params_['C'],\n",
    "                                  gamma    =gs_svr.best_params_['gamma'],\n",
    "                                  kernel   =gs_svr.best_params_['kernel']),\n",
    "                                  bootstrap=True,\n",
    "                                  n_estimators = 100)\n",
    "    bagSVR.fit(x_train.iloc[train_ii,:],y_train.iloc[train_ii])                         \n",
    "    pred.loc[test_ii,\"meta1\"] = bagSVR.predict(x_train.iloc[test_ii,:])\n",
    "    \n",
    "    # verbose\n",
    "    print(\"Étape \" + str(ii+1))"
   ]
  },
  {
   "cell_type": "markdown",
   "metadata": {},
   "source": [
    "On agrège le résultat avec le modèle qui semble le plus performant."
   ]
  },
  {
   "cell_type": "code",
   "execution_count": 191,
   "metadata": {},
   "outputs": [],
   "source": [
    "pred[\"meta2\"] = (pred[\"agr2\"] + pred[\"meta1\"])/2"
   ]
  },
  {
   "cell_type": "markdown",
   "metadata": {},
   "source": [
    "##### Calcul de l'erreur pour chaque modèle"
   ]
  },
  {
   "cell_type": "markdown",
   "metadata": {},
   "source": [
    "On contruit un DataFrame pour enregister les résultats."
   ]
  },
  {
   "cell_type": "code",
   "execution_count": 192,
   "metadata": {},
   "outputs": [],
   "source": [
    "res = pd.DataFrame(\"NA\", index=range(len(model_list)), \n",
    "                         columns=['model','CV1','CV2','CV3','CV4','CV5','Tot'])\n",
    "# liste des modèles\n",
    "res['model']=model_list"
   ]
  },
  {
   "cell_type": "markdown",
   "metadata": {},
   "source": [
    "On calcule les résultats des modèles avec la fonction de perte rmsle."
   ]
  },
  {
   "cell_type": "code",
   "execution_count": 193,
   "metadata": {},
   "outputs": [],
   "source": [
    "for model in model_list:\n",
    "    ii = res.loc[res['model']==model,].index\n",
    "    res.loc[ii,'Tot'] = rmsle(pred[\"TRUE\"],pred[model])"
   ]
  },
  {
   "cell_type": "markdown",
   "metadata": {},
   "source": [
    "Résultats pour chaque tranche de la cross-validation 5-fold."
   ]
  },
  {
   "cell_type": "code",
   "execution_count": 194,
   "metadata": {},
   "outputs": [],
   "source": [
    "for jj in range(5):\n",
    "    for model in model_list:\n",
    "        ii = res.loc[res['model']==model,].index # indice de la ligne correspondant au modèle\n",
    "        cv = 'CV' + str(jj+1)                    # numéro de la tranche de données (jj de 0 à 4)\n",
    "        y = pred.loc[(index==jj),\"TRUE\"]         # valeurs réelles pour cette tranche\n",
    "        y_pred = pred.loc[(index==jj),model]     # valeurs prédites par le modèle pour cette tranche\n",
    "        res.loc[ii,cv] = rmsle(y,y_pred)         # affectation du résultat dans le tableau des résultats"
   ]
  },
  {
   "cell_type": "markdown",
   "metadata": {},
   "source": [
    "##### Comparaison des résultats"
   ]
  },
  {
   "cell_type": "code",
   "execution_count": 195,
   "metadata": {},
   "outputs": [
    {
     "name": "stdout",
     "output_type": "stream",
     "text": [
      "        model        CV1        CV2        CV3        CV4        CV5  \\\n",
      "0        TRUE          0          0          0          0          0   \n",
      "1         svr  0.0442839   0.044057  0.0457288  0.0487987  0.0442542   \n",
      "2         rfr   0.046118  0.0433324  0.0441201  0.0472895  0.0400421   \n",
      "3         ada    0.05638  0.0518011  0.0537341  0.0555922  0.0468365   \n",
      "4         agr  0.0465629  0.0432377  0.0446855    0.04749  0.0400116   \n",
      "5        agr1  0.0500397  0.0461381  0.0475013  0.0500047  0.0417476   \n",
      "6        agr2  0.0436568   0.041638  0.0432118  0.0460213  0.0398489   \n",
      "7        agr3  0.0477998  0.0443693  0.0458224  0.0488101  0.0413249   \n",
      "8       meta1  0.0443066  0.0446351  0.0463674  0.0488583  0.0430841   \n",
      "9       meta2  0.0435728   0.042491  0.0443504  0.0469274   0.041027   \n",
      "10  svr_bayes  0.0477053  0.0474799  0.0483891   0.049806  0.0464755   \n",
      "\n",
      "          Tot  \n",
      "0           0  \n",
      "1    0.045484  \n",
      "2   0.0442073  \n",
      "3   0.0528889  \n",
      "4    0.044421  \n",
      "5   0.0471132  \n",
      "6   0.0429037  \n",
      "7   0.0456452  \n",
      "8   0.0455301  \n",
      "9   0.0437208  \n",
      "10  0.0479935  \n"
     ]
    }
   ],
   "source": [
    "print(res)\n",
    "res = res[res['model']!='TRUE']"
   ]
  },
  {
   "cell_type": "markdown",
   "metadata": {},
   "source": [
    "Visualisation des résultats."
   ]
  },
  {
   "cell_type": "code",
   "execution_count": 196,
   "metadata": {},
   "outputs": [
    {
     "data": {
      "text/plain": [
       "[<matplotlib.lines.Line2D at 0x11b9fdfd0>]"
      ]
     },
     "execution_count": 196,
     "metadata": {},
     "output_type": "execute_result"
    },
    {
     "data": {
      "image/png": "[encoded data removed]",
      "text/plain": [
       "<Figure size 432x288 with 1 Axes>"
      ]
     },
     "metadata": {
      "needs_background": "light"
     },
     "output_type": "display_data"
    }
   ],
   "source": [
    "plt.plot(res['model'],res['Tot'])"
   ]
  },
  {
   "cell_type": "markdown",
   "metadata": {},
   "source": [
    "Visualisation par bloc"
   ]
  },
  {
   "cell_type": "code",
   "execution_count": 197,
   "metadata": {},
   "outputs": [
    {
     "data": {
      "text/plain": [
       "[<matplotlib.lines.Line2D at 0x118b96828>]"
      ]
     },
     "execution_count": 197,
     "metadata": {},
     "output_type": "execute_result"
    },
    {
     "data": {
      "image/png": "[encoded data removed]",
      "text/plain": [
       "<Figure size 432x288 with 1 Axes>"
      ]
     },
     "metadata": {
      "needs_background": "light"
     },
     "output_type": "display_data"
    }
   ],
   "source": [
    "plt.plot(res['model'],res['CV1'])\n",
    "plt.plot(res['model'],res['CV2'])\n",
    "plt.plot(res['model'],res['CV3'])\n",
    "plt.plot(res['model'],res['CV4'])\n",
    "plt.plot(res['model'],res['CV5'])"
   ]
  },
  {
   "cell_type": "markdown",
   "metadata": {},
   "source": [
    "Le modèle retenu."
   ]
  },
  {
   "cell_type": "code",
   "execution_count": 198,
   "metadata": {},
   "outputs": [
    {
     "data": {
      "text/plain": [
       "6    agr2\n",
       "Name: model, dtype: object"
      ]
     },
     "execution_count": 198,
     "metadata": {},
     "output_type": "execute_result"
    }
   ],
   "source": [
    "res.loc[res['Tot']==min(res['Tot']),'model']"
   ]
  },
  {
   "cell_type": "markdown",
   "metadata": {},
   "source": [
    "Observation pour chaque bloc de la cv 5-fold"
   ]
  },
  {
   "cell_type": "code",
   "execution_count": 199,
   "metadata": {},
   "outputs": [
    {
     "name": "stdout",
     "output_type": "stream",
     "text": [
      "9    meta2\n",
      "Name: model, dtype: object\n",
      "6    agr2\n",
      "Name: model, dtype: object\n",
      "6    agr2\n",
      "Name: model, dtype: object\n",
      "6    agr2\n",
      "Name: model, dtype: object\n",
      "6    agr2\n",
      "Name: model, dtype: object\n"
     ]
    }
   ],
   "source": [
    "print(res.loc[res['CV1']==min(res['CV1']),'model'])\n",
    "print(res.loc[res['CV2']==min(res['CV2']),'model'])\n",
    "print(res.loc[res['CV3']==min(res['CV3']),'model'])\n",
    "print(res.loc[res['CV4']==min(res['CV4']),'model'])\n",
    "print(res.loc[res['CV5']==min(res['CV5']),'model'])"
   ]
  },
  {
   "cell_type": "code",
   "execution_count": 200,
   "metadata": {},
   "outputs": [
    {
     "data": {
      "text/html": [
       "<div>\n",
       "<style scoped>\n",
       "    .dataframe tbody tr th:only-of-type {\n",
       "        vertical-align: middle;\n",
       "    }\n",
       "\n",
       "    .dataframe tbody tr th {\n",
       "        vertical-align: top;\n",
       "    }\n",
       "\n",
       "    .dataframe thead th {\n",
       "        text-align: right;\n",
       "    }\n",
       "</style>\n",
       "<table border=\"1\" class=\"dataframe\">\n",
       "  <thead>\n",
       "    <tr style=\"text-align: right;\">\n",
       "      <th></th>\n",
       "      <th>TRUE</th>\n",
       "      <th>svr</th>\n",
       "      <th>rfr</th>\n",
       "      <th>ada</th>\n",
       "      <th>agr</th>\n",
       "      <th>agr1</th>\n",
       "      <th>agr2</th>\n",
       "      <th>agr3</th>\n",
       "      <th>meta1</th>\n",
       "      <th>meta2</th>\n",
       "      <th>svr_bayes</th>\n",
       "    </tr>\n",
       "  </thead>\n",
       "  <tbody>\n",
       "    <tr>\n",
       "      <th>0</th>\n",
       "      <td>0.650648</td>\n",
       "      <td>0.690945</td>\n",
       "      <td>0.685395</td>\n",
       "      <td>0.616062</td>\n",
       "      <td>0.664134</td>\n",
       "      <td>0.650728</td>\n",
       "      <td>0.68817</td>\n",
       "      <td>0.653504</td>\n",
       "      <td>0.662669</td>\n",
       "      <td>0.67542</td>\n",
       "      <td>0.71313</td>\n",
       "    </tr>\n",
       "    <tr>\n",
       "      <th>1</th>\n",
       "      <td>0.699792</td>\n",
       "      <td>0.706617</td>\n",
       "      <td>0.670051</td>\n",
       "      <td>0.606896</td>\n",
       "      <td>0.661188</td>\n",
       "      <td>0.638474</td>\n",
       "      <td>0.688334</td>\n",
       "      <td>0.656757</td>\n",
       "      <td>0.673914</td>\n",
       "      <td>0.681124</td>\n",
       "      <td>0.626621</td>\n",
       "    </tr>\n",
       "    <tr>\n",
       "      <th>2</th>\n",
       "      <td>0.632129</td>\n",
       "      <td>0.692112</td>\n",
       "      <td>0.653654</td>\n",
       "      <td>0.611405</td>\n",
       "      <td>0.65239</td>\n",
       "      <td>0.63253</td>\n",
       "      <td>0.672883</td>\n",
       "      <td>0.651758</td>\n",
       "      <td>0.692494</td>\n",
       "      <td>0.682688</td>\n",
       "      <td>0.735714</td>\n",
       "    </tr>\n",
       "    <tr>\n",
       "      <th>3</th>\n",
       "      <td>0.810730</td>\n",
       "      <td>0.698772</td>\n",
       "      <td>0.691906</td>\n",
       "      <td>0.606751</td>\n",
       "      <td>0.66581</td>\n",
       "      <td>0.649329</td>\n",
       "      <td>0.695339</td>\n",
       "      <td>0.652762</td>\n",
       "      <td>0.720615</td>\n",
       "      <td>0.707977</td>\n",
       "      <td>0.712148</td>\n",
       "    </tr>\n",
       "    <tr>\n",
       "      <th>4</th>\n",
       "      <td>0.757614</td>\n",
       "      <td>0.772815</td>\n",
       "      <td>0.800038</td>\n",
       "      <td>0.797158</td>\n",
       "      <td>0.790004</td>\n",
       "      <td>0.798598</td>\n",
       "      <td>0.786426</td>\n",
       "      <td>0.784987</td>\n",
       "      <td>0.763434</td>\n",
       "      <td>0.77493</td>\n",
       "      <td>0.654803</td>\n",
       "    </tr>\n",
       "  </tbody>\n",
       "</table>\n",
       "</div>"
      ],
      "text/plain": [
       "       TRUE       svr       rfr       ada       agr      agr1      agr2  \\\n",
       "0  0.650648  0.690945  0.685395  0.616062  0.664134  0.650728   0.68817   \n",
       "1  0.699792  0.706617  0.670051  0.606896  0.661188  0.638474  0.688334   \n",
       "2  0.632129  0.692112  0.653654  0.611405   0.65239   0.63253  0.672883   \n",
       "3  0.810730  0.698772  0.691906  0.606751   0.66581  0.649329  0.695339   \n",
       "4  0.757614  0.772815  0.800038  0.797158  0.790004  0.798598  0.786426   \n",
       "\n",
       "       agr3     meta1     meta2 svr_bayes  \n",
       "0  0.653504  0.662669   0.67542   0.71313  \n",
       "1  0.656757  0.673914  0.681124  0.626621  \n",
       "2  0.651758  0.692494  0.682688  0.735714  \n",
       "3  0.652762  0.720615  0.707977  0.712148  \n",
       "4  0.784987  0.763434   0.77493  0.654803  "
      ]
     },
     "execution_count": 200,
     "metadata": {},
     "output_type": "execute_result"
    }
   ],
   "source": [
    "pred.head()"
   ]
  },
  {
   "cell_type": "markdown",
   "metadata": {},
   "source": [
    "### Entrainement du modèle retenu avec l'ensemble des données train"
   ]
  },
  {
   "cell_type": "markdown",
   "metadata": {},
   "source": [
    "##### Partie SVR"
   ]
  },
  {
   "cell_type": "code",
   "execution_count": 201,
   "metadata": {},
   "outputs": [
    {
     "data": {
      "text/plain": [
       "SVR(C=100, cache_size=200, coef0=0.0, degree=3, epsilon=0.1, gamma=0.0001,\n",
       "  kernel='rbf', max_iter=-1, shrinking=True, tol=0.001, verbose=False)"
      ]
     },
     "execution_count": 201,
     "metadata": {},
     "output_type": "execute_result"
    }
   ],
   "source": [
    "model_svr = SVR(C     =gs_svr.best_params_['C'],\n",
    "                gamma =gs_svr.best_params_['gamma'],\n",
    "                kernel=gs_svr.best_params_['kernel'])\n",
    "model_svr.fit(x_train,y_train)"
   ]
  },
  {
   "cell_type": "markdown",
   "metadata": {},
   "source": [
    "##### Partie RandomForestRegressor"
   ]
  },
  {
   "cell_type": "code",
   "execution_count": 202,
   "metadata": {
    "scrolled": true
   },
   "outputs": [
    {
     "data": {
      "text/plain": [
       "RandomForestRegressor(bootstrap=True, criterion='mse', max_depth=None,\n",
       "           max_features=1, max_leaf_nodes=None, min_impurity_decrease=0.0,\n",
       "           min_impurity_split=None, min_samples_leaf=1,\n",
       "           min_samples_split=2, min_weight_fraction_leaf=0.0,\n",
       "           n_estimators=500, n_jobs=None, oob_score=False,\n",
       "           random_state=None, verbose=0, warm_start=False)"
      ]
     },
     "execution_count": 202,
     "metadata": {},
     "output_type": "execute_result"
    }
   ],
   "source": [
    "model_rfr = RandomForestRegressor(max_features=gs_rfr.best_params_['max_features'],\n",
    "                                  n_estimators=gs_rfr.best_params_['n_estimators'])\n",
    "model_rfr.fit(x_train,y_train)"
   ]
  },
  {
   "cell_type": "code",
   "execution_count": null,
   "metadata": {},
   "outputs": [],
   "source": []
  }
 ],
 "metadata": {
  "kernelspec": {
   "display_name": "Python 3",
   "language": "python",
   "name": "python3"
  },
  "language_info": {
   "codemirror_mode": {
    "name": "ipython",
    "version": 3
   },
   "file_extension": ".py",
   "mimetype": "text/x-python",
   "name": "python",
   "nbconvert_exporter": "python",
   "pygments_lexer": "ipython3",
   "version": "3.7.1"
  }
 },
 "nbformat": 4,
 "nbformat_minor": 2
}
